{
 "cells": [
  {
   "cell_type": "markdown",
   "metadata": {
    "scrolled": true
   },
   "source": [
    "# eyeGrowth"
   ]
  },
  {
   "cell_type": "code",
   "execution_count": 1,
   "metadata": {},
   "outputs": [],
   "source": [
    "import pandas as pd\n",
    "import seaborn as sns\n",
    "import matplotlib.pyplot as plt\n",
    "import numpy as np"
   ]
  },
  {
   "cell_type": "markdown",
   "metadata": {},
   "source": [
    "## read the DATA"
   ]
  },
  {
   "cell_type": "code",
   "execution_count": 2,
   "metadata": {},
   "outputs": [],
   "source": [
    "file_path = \"data/Final_data_18.8.20_Clear.csv\"\n",
    "\n",
    "#replace ' ' with na\n",
    "df_full = pd.read_csv(file_path, na_values=' ', index_col=0)"
   ]
  },
  {
   "cell_type": "markdown",
   "metadata": {},
   "source": [
    "## Displaying  Data "
   ]
  },
  {
   "cell_type": "code",
   "execution_count": 3,
   "metadata": {},
   "outputs": [
    {
     "name": "stdout",
     "output_type": "stream",
     "text": [
      "Full Shape: (100, 131)\n"
     ]
    }
   ],
   "source": [
    "print('Full Shape:', df_full.shape)"
   ]
  },
  {
   "cell_type": "code",
   "execution_count": 4,
   "metadata": {
    "scrolled": true
   },
   "outputs": [
    {
     "data": {
      "text/html": [
       "<div>\n",
       "<style scoped>\n",
       "    .dataframe tbody tr th:only-of-type {\n",
       "        vertical-align: middle;\n",
       "    }\n",
       "\n",
       "    .dataframe tbody tr th {\n",
       "        vertical-align: top;\n",
       "    }\n",
       "\n",
       "    .dataframe thead th {\n",
       "        text-align: right;\n",
       "    }\n",
       "</style>\n",
       "<table border=\"1\" class=\"dataframe\">\n",
       "  <thead>\n",
       "    <tr style=\"text-align: right;\">\n",
       "      <th></th>\n",
       "      <th>ID_num</th>\n",
       "      <th>Name</th>\n",
       "      <th>Age</th>\n",
       "      <th>Sex</th>\n",
       "      <th>????</th>\n",
       "      <th>HTN</th>\n",
       "      <th>DM</th>\n",
       "      <th>Hypercho</th>\n",
       "      <th>BCC</th>\n",
       "      <th>DNS</th>\n",
       "      <th>...</th>\n",
       "      <th>SCLERA_Radiation rate_cGy</th>\n",
       "      <th>SCLERA_Radiation dose_cGy</th>\n",
       "      <th>OP_DISC_Radiation_rate_cGy</th>\n",
       "      <th>OP_DISC_Radiation_dose_cGy</th>\n",
       "      <th>LENS_Radiation rate_cGy</th>\n",
       "      <th>LENS_Radiation dose_cGy</th>\n",
       "      <th>MACULA_Radiation rate_cGy</th>\n",
       "      <th>MACULA-Radiation ose, cGy/h</th>\n",
       "      <th>APEX_Radiation_rate_cGy</th>\n",
       "      <th>APEX_Radiation dose_cGy</th>\n",
       "    </tr>\n",
       "  </thead>\n",
       "  <tbody>\n",
       "    <tr>\n",
       "      <th>1</th>\n",
       "      <td>9757311</td>\n",
       "      <td>???? ???</td>\n",
       "      <td>87</td>\n",
       "      <td>2</td>\n",
       "      <td>2</td>\n",
       "      <td>1</td>\n",
       "      <td>1</td>\n",
       "      <td>1</td>\n",
       "      <td>0</td>\n",
       "      <td>0</td>\n",
       "      <td>...</td>\n",
       "      <td>531.0</td>\n",
       "      <td>804.0</td>\n",
       "      <td>15.0</td>\n",
       "      <td>23.0</td>\n",
       "      <td>38.0</td>\n",
       "      <td>58.0</td>\n",
       "      <td>14.0</td>\n",
       "      <td>21.0</td>\n",
       "      <td>52.0</td>\n",
       "      <td>80.0</td>\n",
       "    </tr>\n",
       "    <tr>\n",
       "      <th>2</th>\n",
       "      <td>310332994</td>\n",
       "      <td>???? ????</td>\n",
       "      <td>72</td>\n",
       "      <td>2</td>\n",
       "      <td>2</td>\n",
       "      <td>1</td>\n",
       "      <td>0</td>\n",
       "      <td>0</td>\n",
       "      <td>0</td>\n",
       "      <td>0</td>\n",
       "      <td>...</td>\n",
       "      <td>469.0</td>\n",
       "      <td>340.0</td>\n",
       "      <td>73.0</td>\n",
       "      <td>53.0</td>\n",
       "      <td>13.0</td>\n",
       "      <td>10.0</td>\n",
       "      <td>39.0</td>\n",
       "      <td>28.0</td>\n",
       "      <td>110.0</td>\n",
       "      <td>80.0</td>\n",
       "    </tr>\n",
       "    <tr>\n",
       "      <th>3</th>\n",
       "      <td>305847832</td>\n",
       "      <td>????? ????</td>\n",
       "      <td>59</td>\n",
       "      <td>2</td>\n",
       "      <td>2</td>\n",
       "      <td>1</td>\n",
       "      <td>0</td>\n",
       "      <td>1</td>\n",
       "      <td>0</td>\n",
       "      <td>1</td>\n",
       "      <td>...</td>\n",
       "      <td>818.0</td>\n",
       "      <td>753.0</td>\n",
       "      <td>162.0</td>\n",
       "      <td>149.0</td>\n",
       "      <td>38.0</td>\n",
       "      <td>35.0</td>\n",
       "      <td>77.0</td>\n",
       "      <td>71.0</td>\n",
       "      <td>90.0</td>\n",
       "      <td>83.0</td>\n",
       "    </tr>\n",
       "    <tr>\n",
       "      <th>4</th>\n",
       "      <td>8520397</td>\n",
       "      <td>????? ?????</td>\n",
       "      <td>71</td>\n",
       "      <td>2</td>\n",
       "      <td>2</td>\n",
       "      <td>0</td>\n",
       "      <td>0</td>\n",
       "      <td>1</td>\n",
       "      <td>0</td>\n",
       "      <td>0</td>\n",
       "      <td>...</td>\n",
       "      <td>597.0</td>\n",
       "      <td>346.0</td>\n",
       "      <td>65.0</td>\n",
       "      <td>37.0</td>\n",
       "      <td>15.0</td>\n",
       "      <td>9.0</td>\n",
       "      <td>109.0</td>\n",
       "      <td>63.0</td>\n",
       "      <td>168.0</td>\n",
       "      <td>80.0</td>\n",
       "    </tr>\n",
       "    <tr>\n",
       "      <th>5</th>\n",
       "      <td>9763160</td>\n",
       "      <td>??????? ??</td>\n",
       "      <td>76</td>\n",
       "      <td>1</td>\n",
       "      <td>1</td>\n",
       "      <td>0</td>\n",
       "      <td>1</td>\n",
       "      <td>1</td>\n",
       "      <td>0</td>\n",
       "      <td>0</td>\n",
       "      <td>...</td>\n",
       "      <td>273.0</td>\n",
       "      <td>247.0</td>\n",
       "      <td>32.0</td>\n",
       "      <td>29.0</td>\n",
       "      <td>21.0</td>\n",
       "      <td>19.0</td>\n",
       "      <td>37.0</td>\n",
       "      <td>34.0</td>\n",
       "      <td>94.0</td>\n",
       "      <td>85.0</td>\n",
       "    </tr>\n",
       "  </tbody>\n",
       "</table>\n",
       "<p>5 rows × 131 columns</p>\n",
       "</div>"
      ],
      "text/plain": [
       "      ID_num          Name  Age  Sex  ????  HTN  DM  Hypercho  BCC  DNS  ...  \\\n",
       "1    9757311    ???? ???     87    2     2    1   1         1    0    0  ...   \n",
       "2  310332994    ???? ????    72    2     2    1   0         0    0    0  ...   \n",
       "3  305847832   ????? ????    59    2     2    1   0         1    0    1  ...   \n",
       "4    8520397  ????? ?????    71    2     2    0   0         1    0    0  ...   \n",
       "5    9763160    ??????? ??   76    1     1    0   1         1    0    0  ...   \n",
       "\n",
       "   SCLERA_Radiation rate_cGy SCLERA_Radiation dose_cGy  \\\n",
       "1                      531.0                     804.0   \n",
       "2                      469.0                     340.0   \n",
       "3                      818.0                     753.0   \n",
       "4                      597.0                     346.0   \n",
       "5                      273.0                     247.0   \n",
       "\n",
       "  OP_DISC_Radiation_rate_cGy  OP_DISC_Radiation_dose_cGy  \\\n",
       "1                       15.0                        23.0   \n",
       "2                       73.0                        53.0   \n",
       "3                      162.0                       149.0   \n",
       "4                       65.0                        37.0   \n",
       "5                       32.0                        29.0   \n",
       "\n",
       "   LENS_Radiation rate_cGy  LENS_Radiation dose_cGy  \\\n",
       "1                     38.0                     58.0   \n",
       "2                     13.0                     10.0   \n",
       "3                     38.0                     35.0   \n",
       "4                     15.0                      9.0   \n",
       "5                     21.0                     19.0   \n",
       "\n",
       "   MACULA_Radiation rate_cGy  MACULA-Radiation ose, cGy/h  \\\n",
       "1                       14.0                         21.0   \n",
       "2                       39.0                         28.0   \n",
       "3                       77.0                         71.0   \n",
       "4                      109.0                         63.0   \n",
       "5                       37.0                         34.0   \n",
       "\n",
       "   APEX_Radiation_rate_cGy  APEX_Radiation dose_cGy  \n",
       "1                     52.0                     80.0  \n",
       "2                    110.0                     80.0  \n",
       "3                     90.0                     83.0  \n",
       "4                    168.0                     80.0  \n",
       "5                     94.0                     85.0  \n",
       "\n",
       "[5 rows x 131 columns]"
      ]
     },
     "execution_count": 4,
     "metadata": {},
     "output_type": "execute_result"
    }
   ],
   "source": [
    "pd.set_option(\"display.max_rows\",None)\n",
    "df_full.head()"
   ]
  },
  {
   "cell_type": "code",
   "execution_count": 5,
   "metadata": {},
   "outputs": [
    {
     "name": "stdout",
     "output_type": "stream",
     "text": [
      "=====****======  Missing values  =\n",
      "VA_FIRST_logmar\n",
      "VA_ONE_YEAR_LOGMAR\n",
      "VA_Three_years_logmar\n",
      "IOP_ONE_year\n",
      "IOP_THREE_years\n",
      "PVD_FU\n",
      "Lengh_PVD_NEW\n",
      "VH_FU\n",
      "Lengh_VH_NEW\n",
      "CME_FU\n",
      "Lengh_CME_NEW\n",
      "ERM_FU\n",
      "Lengh_ERM_NEW\n",
      "DIPLOPIA_FU\n",
      "Lengh_DIPLOPIA_NEW\n",
      "RD_FU\n",
      "Lengh_RD_NEW\n",
      "PED_FU\n",
      "Lengh_PED_NEW\n",
      "SRF_FU\n",
      "Lengh_SRF_NEW\n",
      "Subretinal_fluid\n",
      "Isotope\n"
     ]
    }
   ],
   "source": [
    "#sum the how many columns are not full \n",
    "#print (df_full.isna().sum())\n",
    "\n",
    "print (\"=====****======  Missing values  =\" )\n",
    "        \n",
    "for col in df_full:\n",
    "    if df_full[col].isna().sum() > 0:\n",
    "        print (col)\n",
    "        "
   ]
  },
  {
   "cell_type": "code",
   "execution_count": 6,
   "metadata": {},
   "outputs": [],
   "source": [
    "# drop irrlevant columns or not full columns\n",
    "drop_columns = ['ID_num','Name','first_visit','last_visit','operation_date','IOP_ONE_year','IOP_THREE_years']\n",
    "\n",
    "# axis 1 refers to the columns\n",
    "df_full.drop(drop_columns, axis=1, errors='ignore' ,inplace=True)"
   ]
  },
  {
   "cell_type": "code",
   "execution_count": 7,
   "metadata": {},
   "outputs": [
    {
     "data": {
      "text/plain": [
       "(100, 124)"
      ]
     },
     "execution_count": 7,
     "metadata": {},
     "output_type": "execute_result"
    }
   ],
   "source": [
    "df_full.shape"
   ]
  },
  {
   "cell_type": "markdown",
   "metadata": {},
   "source": [
    "# Prepare features & labels"
   ]
  },
  {
   "cell_type": "markdown",
   "metadata": {},
   "source": [
    "# set label"
   ]
  },
  {
   "cell_type": "code",
   "execution_count": 8,
   "metadata": {},
   "outputs": [],
   "source": [
    "# Labels are the values we want to predict\n",
    "\n",
    "# if VA_Three_years_logmar exist\n",
    "#    Label = VA_Three_years_logmar\n",
    "# Else\n",
    "#    Label = VA_ONE_YEAR_LOGMAR\n",
    "\n",
    "df_full['Label']= df_full['VA_Three_years_logmar']\n",
    "\n",
    "#if VA_Three_years_logmar is NULL:\n",
    "# 1. Fill the values of VA_ONE_YEAR_LOGMAR with mean()\n",
    "# 2. Copy from VA_ONE_YEAR_LOGMAR to Label\n",
    "df_full['VA_ONE_YEAR_LOGMAR'].fillna(df_full['VA_ONE_YEAR_LOGMAR'].mean(), inplace=True)\n",
    "df_full['Label'].fillna(df_full['VA_ONE_YEAR_LOGMAR'], inplace=True)\n",
    "\n",
    "\n",
    "### Label_calc is the final label ########\n",
    "\n",
    "# if (Label >= 0.8)\n",
    "#    Label_calc = 2\n",
    "# else if Label < 0.5)\n",
    "#    Label_calc = 0\n",
    "# else\n",
    "#    Label_calc = 1\n",
    "    \n",
    "df_full['Label_calc'] = np.where(df_full['Label']>=0.8, 2, (np.where(df_full['Label']<0.5,0,1)))\n",
    "\n",
    "#### For debug #####\n",
    "#print (df_full['Label'] , df_full['Label_calc'])"
   ]
  },
  {
   "cell_type": "markdown",
   "metadata": {},
   "source": [
    "# set features "
   ]
  },
  {
   "cell_type": "markdown",
   "metadata": {},
   "source": [
    "## remove labels columns from features"
   ]
  },
  {
   "cell_type": "code",
   "execution_count": 9,
   "metadata": {},
   "outputs": [],
   "source": [
    "# Remove the from the  features the labels columns  \n",
    "# axis 1 refers to the columns\n",
    "features= df_full.drop(['VA_ONE_YEAR_LOGMAR', 'VA_Three_years_logmar', 'Label', 'Label_calc'], errors='ignore', axis = 1)"
   ]
  },
  {
   "cell_type": "markdown",
   "metadata": {},
   "source": [
    "## remove columns that missing many values"
   ]
  },
  {
   "cell_type": "code",
   "execution_count": 10,
   "metadata": {},
   "outputs": [
    {
     "name": "stdout",
     "output_type": "stream",
     "text": [
      "===== Before removing -  Columns with missing values ====== \n",
      "PVD_FU\n",
      "Lengh_PVD_NEW\n",
      "RD_FU\n",
      "Lengh_RD_NEW\n",
      "===== After removing - Columns with missing values ====== \n"
     ]
    }
   ],
   "source": [
    "features_missing_many_values =[]\n",
    "\n",
    "\n",
    "for col in features:\n",
    "    if features[col].isna().sum() > 10:\n",
    "        features_missing_many_values.append(col)\n",
    "\n",
    "########  Debug - Before removing ###############        \n",
    "print (\"===== Before removing -  Columns with missing values ====== \" )\n",
    "for x in range(len(features_missing_many_values)): \n",
    "    print (features_missing_many_values[x])\n",
    "\n",
    "# reomove missing vlaues\n",
    "features= features.drop(features_missing_many_values, axis = 1) \n",
    "\n",
    "########  Debug - After removing ###############\n",
    "print (\"===== After removing - Columns with missing values ====== \" )\n",
    "for col in features:\n",
    "    if features[col].isna().sum() > 10:\n",
    "        print (col)"
   ]
  },
  {
   "cell_type": "markdown",
   "metadata": {},
   "source": [
    "## Fill features columns that aren't full  "
   ]
  },
  {
   "cell_type": "code",
   "execution_count": 11,
   "metadata": {},
   "outputs": [
    {
     "name": "stdout",
     "output_type": "stream",
     "text": [
      "***** Before filling - column with : na *****\n",
      "VA_FIRST_logmar\n",
      "VH_FU\n",
      "Lengh_VH_NEW\n",
      "CME_FU\n",
      "Lengh_CME_NEW\n",
      "ERM_FU\n",
      "Lengh_ERM_NEW\n",
      "DIPLOPIA_FU\n",
      "Lengh_DIPLOPIA_NEW\n",
      "PED_FU\n",
      "Lengh_PED_NEW\n",
      "SRF_FU\n",
      "Lengh_SRF_NEW\n",
      "Subretinal_fluid\n",
      "Isotope\n",
      "***** After filling - column with : na *****\n"
     ]
    }
   ],
   "source": [
    "\n",
    "########  Debug - Before filling ###############   \n",
    "print (\"***** Before filling - column with : na *****\")        \n",
    "for col in features:\n",
    "    if features[col].isna().sum() > 0:\n",
    "        print (col)\n",
    "\n",
    "########  Filling missed value ############### \n",
    "for col in features:\n",
    "    if features[col].isna().sum() > 0:\n",
    "        # fill na with mean\n",
    "        features[col].fillna((features[col].mean()), inplace=True)\n",
    "\n",
    "\n",
    "########  Debug - After filling ###############\n",
    "print (\"***** After filling - column with : na *****\")        \n",
    "for col in features:\n",
    "    if features[col].isna().sum() > 0:\n",
    "            print (col)        "
   ]
  },
  {
   "cell_type": "code",
   "execution_count": 12,
   "metadata": {},
   "outputs": [],
   "source": [
    "#change T_critieria vlaues a->0, b->1, c->2, d->3\n",
    "\n",
    "features['T_critieria'] = features['T_critieria'].map({'a':0, 'b':1, 'c':2, 'd':3}) \n",
    "#print (features['T_critieria'])"
   ]
  },
  {
   "cell_type": "code",
   "execution_count": 13,
   "metadata": {},
   "outputs": [
    {
     "name": "stdout",
     "output_type": "stream",
     "text": [
      "Age                                int64\n",
      "Sex                                int64\n",
      "????                               int64\n",
      "HTN                                int64\n",
      "DM                                 int64\n",
      "Hypercho                           int64\n",
      "BCC                                int64\n",
      "DNS                                int64\n",
      "skin_malig_melanoma                int64\n",
      "TOTAL_FOLLOW_MONTH                 int64\n",
      "future_visit                       int64\n",
      "Eye                                int64\n",
      "Decreased_visual_acuity            int64\n",
      "Flashes_floaters                   int64\n",
      "diziness                           int64\n",
      "methamorphopsia                    int64\n",
      "Pain                               int64\n",
      "Diplopia                           int64\n",
      "Asymptomatic                       int64\n",
      "VA_FIRST_logmar                  float64\n",
      "IOP_FIRST                          int64\n",
      "Iris_color                         int64\n",
      "Iris_finding                       int64\n",
      "Overhang_of_optic_nerve            int64\n",
      "Optic_disc_swelling                int64\n",
      "cataract                           int64\n",
      "galucoma                           int64\n",
      "Diabetes                           int64\n",
      "RAO                                int64\n",
      "RVO                                int64\n",
      "RD                                 int64\n",
      "Biopsy                             int64\n",
      "Laser_TTT                          int64\n",
      "Stx_type                           int64\n",
      "CRYO                               int64\n",
      "Tumor_base                       float64\n",
      "Orange_pigment                     int64\n",
      "Tumor_shape                        int64\n",
      "Color                              int64\n",
      "Additional_characteristics         int64\n",
      "Pre_PVD                            int64\n",
      "Pre_VH                             int64\n",
      "VH_FU                            float64\n",
      "Lengh_VH_NEW                     float64\n",
      "Pre_CME                            int64\n",
      "CME_FU                           float64\n",
      "Lengh_CME_NEW                    float64\n",
      "Pre_ERM                            int64\n",
      "ERM_FU                           float64\n",
      "Lengh_ERM_NEW                    float64\n",
      "Pre_GLARE                          int64\n",
      "GLARE_FU                           int64\n",
      "Lengh_GLARE_NEW                    int64\n",
      "Pre_DIPLOPIA                       int64\n",
      "DIPLOPIA_FU                      float64\n",
      "Lengh_DIPLOPIA_NEW               float64\n",
      "Pre_RD                             int64\n",
      "Pre_RR                             int64\n",
      "RADIATION_RETINOPATHY_FU           int64\n",
      "Lengh_RR_NEW                       int64\n",
      "Pre_PED                            int64\n",
      "PED_FU                           float64\n",
      "Lengh_PED_NEW                    float64\n",
      "Pre_SRF                            int64\n",
      "SRF_FU                           float64\n",
      "Lengh_SRF_NEW                    float64\n",
      "Pre_CWS                            int64\n",
      "CWS_FU                             int64\n",
      "length_CWS_NEW                   float64\n",
      "Pre_glaucoma                       int64\n",
      "GLAUCOMA_FU                        int64\n",
      "LENGTH_GLAUCOMA_NEW              float64\n",
      "Pre_macular_atrophy                int64\n",
      "MACULAR_ATROPHY_FU                 int64\n",
      "LENGTH_MACULAR_NEW                 int64\n",
      "Metastasis                         int64\n",
      "TIME_to_Metastasis_NEW             int64\n",
      "Death                              int64\n",
      "Time_to_Death_NEW                  int64\n",
      "PRE_COMP                           int64\n",
      "COMPOSTIVE_OUTCOME?_FU             int64\n",
      "TIME_TO_1_COMP_NEW                 int64\n",
      "MERIDIAN                           int64\n",
      "Enucleation_all_causes             int64\n",
      "Tumor_recurrence                   int64\n",
      "time_to_recurrence _month          int64\n",
      " Another_tumor                     int64\n",
      "Metastasis.1                       int64\n",
      "Death.1                            int64\n",
      "Growth_pattern                     int64\n",
      "Anterior_limit_of_tumor          float64\n",
      "Subretinal_fluid                 float64\n",
      "Definition_of_primary_tumor_T      int64\n",
      "T_critieria                        int64\n",
      "Radiation_duration_H             float64\n",
      "Plaque_size                      float64\n",
      "No_of_seeds                        int64\n",
      "apex_of_tumor                    float64\n",
      "radial                           float64\n",
      "Circumfeential                   float64\n",
      "Longest_dimension                float64\n",
      "Nominal_width                    float64\n",
      "surface_area                     float64\n",
      "%_of_retinal_surface             float64\n",
      "Aprox_volume                     float64\n",
      "Isotope                          float64\n",
      "Proximity_to_Optic_nerve         float64\n",
      "Proximity_to_foveola             float64\n",
      "SCLERA_Radiation rate_cGy        float64\n",
      "SCLERA_Radiation dose_cGy        float64\n",
      "OP_DISC_Radiation_rate_cGy       float64\n",
      "OP_DISC_Radiation_dose_cGy       float64\n",
      "LENS_Radiation rate_cGy          float64\n",
      "LENS_Radiation dose_cGy          float64\n",
      "MACULA_Radiation rate_cGy        float64\n",
      "MACULA-Radiation ose, cGy/h      float64\n",
      "APEX_Radiation_rate_cGy          float64\n",
      "APEX_Radiation dose_cGy          float64\n",
      "dtype: object\n",
      "*************\n",
      "0\n",
      "*************\n",
      "(100, 118)\n"
     ]
    }
   ],
   "source": [
    "# TBD - drop not int values\n",
    "#features=features.drop(['Lengh_PVD_NEW','VH_FU','Lengh_CME_NEW','ERM_FU','Lengh_ERM_NEW'], errors='ignore', axis = 1)\n",
    "#features=features.drop(['VH_FU','Lengh_CME_NEW','ERM_FU','Lengh_ERM_NEW'], errors='ignore', axis = 1)\n",
    "#features=features.drop(['DIPLOPIA_FU','Lengh_DIPLOPIA_NEW','RD_FU','Lengh_RD_NEW'], errors='ignore', axis = 1)\n",
    "#features=features.drop(['T_critieria'], errors='ignore', axis = 1)\n",
    "\n",
    "print (features.dtypes)\n",
    "print (\"*************\")\n",
    "print (features.isna().sum().sum())\n",
    "print (\"*************\")\n",
    "print (features.shape)"
   ]
  },
  {
   "cell_type": "code",
   "execution_count": 14,
   "metadata": {},
   "outputs": [
    {
     "name": "stdout",
     "output_type": "stream",
     "text": [
      "2.0\n",
      "2.0\n"
     ]
    }
   ],
   "source": [
    "from sklearn.preprocessing import MinMaxScaler\n",
    "\n",
    "scaler = MinMaxScaler()\n",
    "scaler.fit(features)\n",
    "print(scaler.data_max_[1])\n",
    "scaler.transform(features)\n",
    "print(scaler.data_max_[1])\n"
   ]
  },
  {
   "cell_type": "code",
   "execution_count": 15,
   "metadata": {},
   "outputs": [],
   "source": [
    "# set the label\n",
    "labels = df_full['Label_calc']"
   ]
  },
  {
   "cell_type": "code",
   "execution_count": 16,
   "metadata": {},
   "outputs": [],
   "source": [
    "# Using Skicit-learn to split data into training and testing sets\n",
    "from sklearn.model_selection import train_test_split\n",
    "\n",
    "# Split the data into training and testing sets\n",
    "train_features, test_features, train_labels, test_labels = train_test_split(features, labels, test_size = 0.25,\n",
    "                                                                           random_state = 42)"
   ]
  },
  {
   "cell_type": "code",
   "execution_count": 17,
   "metadata": {},
   "outputs": [
    {
     "name": "stdout",
     "output_type": "stream",
     "text": [
      "Training Features Shape: (75, 118)\n",
      "Training Labels Shape: (75,)\n",
      "Testing Features Shape: (25, 118)\n",
      "Testing Labels Shape: (25,)\n"
     ]
    }
   ],
   "source": [
    "print('Training Features Shape:', train_features.shape)\n",
    "print('Training Labels Shape:', train_labels.shape)\n",
    "print('Testing Features Shape:', test_features.shape)\n",
    "print('Testing Labels Shape:', test_labels.shape)"
   ]
  },
  {
   "cell_type": "markdown",
   "metadata": {},
   "source": [
    "## Train model"
   ]
  },
  {
   "cell_type": "code",
   "execution_count": 18,
   "metadata": {},
   "outputs": [],
   "source": [
    "# Import the model we are using\n",
    "from sklearn.ensemble import RandomForestClassifier\n",
    "\n",
    "# Instantiate model \n",
    "rf = RandomForestClassifier(n_estimators= 10000, random_state=42)\n",
    "\n",
    "# Train the model on training data\n",
    "rf.fit(train_features, train_labels);\n",
    "\n",
    "# Make a prediction\n",
    "prediction=rf.predict(test_features)"
   ]
  },
  {
   "cell_type": "markdown",
   "metadata": {},
   "source": [
    "# Confusion matrix"
   ]
  },
  {
   "cell_type": "code",
   "execution_count": 19,
   "metadata": {},
   "outputs": [
    {
     "data": {
      "image/png": "[encoded data removed]",
      "text/plain": [
       "<Figure size 432x288 with 2 Axes>"
      ]
     },
     "metadata": {
      "needs_background": "light"
     },
     "output_type": "display_data"
    }
   ],
   "source": [
    "import seaborn as sn\n",
    "import matplotlib.pyplot as plt\n",
    "\n",
    "confusion_matrix = pd.crosstab(test_labels, prediction, rownames=['Actual'], colnames=['Predicted'])\n",
    "\n",
    "sn.heatmap(confusion_matrix, annot=True)\n",
    "plt.show()\n",
    "\n"
   ]
  },
  {
   "cell_type": "code",
   "execution_count": 20,
   "metadata": {},
   "outputs": [
    {
     "data": {
      "text/plain": [
       "0.36"
      ]
     },
     "execution_count": 20,
     "metadata": {},
     "output_type": "execute_result"
    }
   ],
   "source": [
    "from sklearn.metrics import accuracy_score\n",
    "accuracy_score(test_labels, prediction)"
   ]
  },
  {
   "cell_type": "markdown",
   "metadata": {},
   "source": [
    "# Tree display"
   ]
  },
  {
   "cell_type": "code",
   "execution_count": 21,
   "metadata": {},
   "outputs": [
    {
     "data": {
      "text/plain": [
       "\"\\n\\n# Extract single tree\\nestimator = rf.estimators_[10]\\n\\nfrom sklearn.tree import export_graphviz\\n\\ncols = list(features.columns.values)\\n\\n#class_names = list(set(labels))\\nclass_names = list(set(features.iloc[:,-1]))\\n\\n\\n#print (cols)\\n# Export as dot file\\nexport_graphviz(estimator, out_file='data/tree.dot', \\n                feature_names = cols,\\n                class_names = cols,#True,\\n                rounded = True, proportion = False, \\n                precision = 2, filled = True)\\n\\n# Convert to png\\nimport pydot\\n\\n(graph,) = pydot.graph_from_dot_file('data/tree.dot')\\ngraph.write_png('data/tree.png')\\n\\nfrom IPython.display import Image, display\\n\\ndisplay(Image('data/tree.png'))\\n\\n\""
      ]
     },
     "execution_count": 21,
     "metadata": {},
     "output_type": "execute_result"
    }
   ],
   "source": [
    "'''\n",
    "\n",
    "# Extract single tree\n",
    "estimator = rf.estimators_[10]\n",
    "\n",
    "from sklearn.tree import export_graphviz\n",
    "\n",
    "cols = list(features.columns.values)\n",
    "\n",
    "#class_names = list(set(labels))\n",
    "class_names = list(set(features.iloc[:,-1]))\n",
    "\n",
    "\n",
    "#print (cols)\n",
    "# Export as dot file\n",
    "export_graphviz(estimator, out_file='data/tree.dot', \n",
    "                feature_names = cols,\n",
    "                class_names = cols,#True,\n",
    "                rounded = True, proportion = False, \n",
    "                precision = 2, filled = True)\n",
    "\n",
    "# Convert to png\n",
    "import pydot\n",
    "\n",
    "(graph,) = pydot.graph_from_dot_file('data/tree.dot')\n",
    "graph.write_png('data/tree.png')\n",
    "\n",
    "from IPython.display import Image, display\n",
    "\n",
    "display(Image('data/tree.png'))\n",
    "\n",
    "'''"
   ]
  },
  {
   "cell_type": "markdown",
   "metadata": {},
   "source": [
    "# Feature importances"
   ]
  },
  {
   "cell_type": "code",
   "execution_count": 24,
   "metadata": {},
   "outputs": [
    {
     "name": "stdout",
     "output_type": "stream",
     "text": [
      "SCLERA_Radiation rate_cGy     0.03754886842132142                     \n",
      "OP_DISC_Radiation_dose_cGy    0.03245868008935799                     \n",
      "OP_DISC_Radiation_rate_cGy    0.027188305748652126                    \n",
      "MACULA_Radiation rate_cGy     0.0264523866848999                      \n",
      "SCLERA_Radiation dose_cGy     0.025368858259234843                    \n",
      "IOP_FIRST                     0.024909645487611473                    \n",
      "APEX_Radiation_rate_cGy       0.024651510852283016                    \n",
      "MACULA-Radiation ose, cGy/h   0.024483956512282152                    \n",
      "Lengh_CME_NEW                 0.023392716757190304                    \n",
      "%_of_retinal_surface          0.02314431392219463                     \n",
      "Radiation_duration_H          0.022513358710043032                    \n",
      "Proximity_to_foveola          0.022443922586263484                    \n",
      "Age                           0.02205981146824473                     \n",
      "Aprox_volume                  0.021812082912348603                    \n",
      "Proximity_to_Optic_nerve      0.020997913198279573                    \n",
      "LENS_Radiation dose_cGy       0.018994465760833454                    \n",
      "TIME_TO_1_COMP_NEW            0.018387627197300836                    \n",
      "Tumor_base                    0.018377844244540604                    \n",
      "LENGTH_GLAUCOMA_NEW           0.018355948284822583                    \n",
      "LENS_Radiation rate_cGy       0.0172687072399702                      \n",
      "VA_FIRST_logmar               0.01724884724237319                     \n",
      "Lengh_DIPLOPIA_NEW            0.016227229324706827                    \n",
      "Longest_dimension             0.016196033708705454                    \n",
      "surface_area                  0.016102947981594732                    \n",
      "apex_of_tumor                 0.01600079032800788                     \n",
      "radial                        0.015200268829292124                    \n",
      "Lengh_SRF_NEW                 0.014689542626317624                    \n",
      "Lengh_RR_NEW                  0.01462127984336682                     \n",
      "Lengh_PED_NEW                 0.01448212528637128                     \n",
      "LENGTH_MACULAR_NEW            0.01404308622817206                     \n",
      "Lengh_ERM_NEW                 0.013957470544234268                    \n",
      "Lengh_VH_NEW                  0.013728042398097658                    \n",
      "Circumfeential                0.01370539181193448                     \n",
      "Time_to_Death_NEW             0.013450108759551353                    \n",
      "length_CWS_NEW                0.013134812244788373                    \n",
      "TOTAL_FOLLOW_MONTH            0.012724961241575532                    \n",
      "TIME_to_Metastasis_NEW        0.01251962590874075                     \n",
      "time_to_recurrence _month     0.012464930888488332                    \n",
      "Nominal_width                 0.012123829118984769                    \n",
      "Lengh_GLARE_NEW               0.01199370778421622                     \n",
      "Plaque_size                   0.011737193789458358                    \n",
      "No_of_seeds                   0.011535187741966981                    \n",
      "Color                         0.011350412559290186                    \n",
      "MERIDIAN                      0.010091280851539855                    \n",
      "Decreased_visual_acuity       0.009863812175338802                    \n",
      "Asymptomatic                  0.008981327106534603                    \n",
      "Anterior_limit_of_tumor       0.007962508238022374                    \n",
      "cataract                      0.00785698067331515                     \n",
      "Tumor_shape                   0.007759346418009864                    \n",
      "HTN                           0.0065208195788675006                   \n",
      "Iris_finding                  0.006502369985583945                    \n",
      "T_critieria                   0.0064858778167245276                   \n",
      "ERM_FU                        0.006018973390477448                    \n",
      "Stx_type                      0.005359279472136513                    \n",
      "????                          0.005185586880145428                    \n",
      "Laser_TTT                     0.005181649177875484                    \n",
      "CME_FU                        0.005089143508091793                    \n",
      " Another_tumor                0.004976839128401812                    \n",
      "APEX_Radiation dose_cGy       0.004948673880558832                    \n",
      "Subretinal_fluid              0.004843880187378097                    \n",
      "Definition_of_primary_tumor_T 0.004517896688246747                    \n",
      "Orange_pigment                0.004414460222044682                    \n",
      "Pre_RD                        0.004205132551126943                    \n",
      "Eye                           0.004140682278692098                    \n",
      "CWS_FU                        0.003856306925628795                    \n",
      "Additional_characteristics    0.003836560121487299                    \n",
      "Iris_color                    0.0036438771703289855                   \n",
      "GLAUCOMA_FU                   0.0035740665720741336                   \n",
      "Flashes_floaters              0.0035402357579652774                   \n",
      "Pre_PVD                       0.0034165233120481355                   \n",
      "Biopsy                        0.003167766588667337                    \n",
      "Sex                           0.003048084496367368                    \n",
      "DIPLOPIA_FU                   0.002940603055754608                    \n",
      "DM                            0.0028557624366351802                   \n",
      "Hypercho                      0.002825172833221895                    \n",
      "Death                         0.0027362272935769426                   \n",
      "COMPOSTIVE_OUTCOME?_FU        0.0027085097217495473                   \n",
      "Death.1                       0.002610910620071398                    \n",
      "SRF_FU                        0.0026029436560511513                   \n",
      "VH_FU                         0.0025474766430525642                   \n",
      "galucoma                      0.0025414962504767156                   \n",
      "PRE_COMP                      0.0023327974736552116                   \n",
      "BCC                           0.0021678305508913117                   \n",
      "PED_FU                        0.0021613173059041486                   \n",
      "RADIATION_RETINOPATHY_FU      0.001979359070818502                    \n",
      "future_visit                  0.001907986658990654                    \n",
      "Pain                          0.0017236282322672905                   \n",
      "Optic_disc_swelling           0.001515087792639895                    \n",
      "MACULAR_ATROPHY_FU            0.0014579905178671566                   \n",
      "RD                            0.0014337695417620132                   \n",
      "Overhang_of_optic_nerve       0.0014100553641230792                   \n",
      "Pre_SRF                       0.0013602527131201898                   \n",
      "methamorphopsia               0.001265402333938038                    \n",
      "CRYO                          0.0009476743371616634                   \n",
      "Enucleation_all_causes        0.0006603710420636262                   \n",
      "RVO                           0.0006141797364336067                   \n",
      "Diplopia                      0.0005948839531665623                   \n",
      "DNS                           0.000566596629651202                    \n",
      "Pre_PED                       0.0005458143588583952                   \n",
      "diziness                      0.0004290982384761342                   \n",
      "Diabetes                      0.0003710192310666496                   \n",
      "Pre_CME                       0.0003095266430499598                   \n",
      "Tumor_recurrence              0.0002772226183399115                   \n",
      "GLARE_FU                      0.0002152934233467837                   \n",
      "Pre_ERM                       0.0001658415306158013                   \n",
      "Metastasis.1                  9.712103562548076e-05                   \n",
      "Metastasis                    4.593704648792933e-05                   \n",
      "Pre_VH                        3.61484274988436e-05                    \n",
      "Pre_CWS                       0.0                                     \n",
      "Pre_DIPLOPIA                  0.0                                     \n",
      "Isotope                       0.0                                     \n",
      "Pre_GLARE                     0.0                                     \n",
      "Pre_RR                        0.0                                     \n",
      "Pre_glaucoma                  0.0                                     \n",
      "Growth_pattern                0.0                                     \n",
      "Pre_macular_atrophy           0.0                                     \n",
      "RAO                           0.0                                     \n",
      "skin_malig_melanoma           0.0                                     \n"
     ]
    }
   ],
   "source": [
    "cols = list(features.columns.values)\n",
    "features = cols\n",
    "importances = rf.feature_importances_\n",
    "\n",
    "# Sort feature importances in in descending order\n",
    "indices = np.argsort(importances)[::-1]\n",
    "\n",
    "# Rearrange feature names so they match the sorted feature importances\n",
    "for i in indices:\n",
    "#    print (i, \"=\" ,cols[i], \" \", importances[i])\n",
    "    print ('{:<30}{:<40}'.format(cols[i],importances[i]))\n",
    "        "
   ]
  },
  {
   "cell_type": "markdown",
   "metadata": {},
   "source": [
    "plt.figure(figsize=(20,30))\n",
    "plt.barh(range(len(indices)), importances[indices], color='b', align='center')\n",
    "plt.yticks(range(len(indices)), [features[i] for i in indices])\n",
    "plt.xlabel('Relative Importance')\n",
    "plt.title('Feature Importances')\n",
    "plt.plot()\n",
    "plt.show()\n",
    "\n",
    "\n"
   ]
  },
  {
   "cell_type": "markdown",
   "metadata": {},
   "source": [
    "# Test new sample against prediction"
   ]
  },
  {
   "cell_type": "code",
   "execution_count": 25,
   "metadata": {},
   "outputs": [],
   "source": [
    "# Xnew = [[63, 2]]\n",
    "# make a prediction\n",
    "#ynew = rf.predict(Xnew)\n",
    "#print(\"X=%s, Predicted=%s\" % (Xnew[0], ynew[0]))"
   ]
  },
  {
   "cell_type": "code",
   "execution_count": null,
   "metadata": {},
   "outputs": [],
   "source": []
  }
 ],
 "metadata": {
  "kernelspec": {
   "display_name": "Python 3",
   "language": "python",
   "name": "python3"
  },
  "language_info": {
   "codemirror_mode": {
    "name": "ipython",
    "version": 3
   },
   "file_extension": ".py",
   "mimetype": "text/x-python",
   "name": "python",
   "nbconvert_exporter": "python",
   "pygments_lexer": "ipython3",
   "version": "3.8.3"
  }
 },
 "nbformat": 4,
 "nbformat_minor": 2
}
